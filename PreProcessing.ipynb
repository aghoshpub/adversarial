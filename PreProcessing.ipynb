{
 "cells": [
  {
   "cell_type": "code",
   "execution_count": 11,
   "metadata": {},
   "outputs": [],
   "source": [
    "#from ROOT import *\n",
    "from rootpy.io import root_open\n",
    "from root_numpy import root2array \n",
    "import numpy as np\n",
    "import matplotlib\n",
    "import matplotlib.pyplot as plt\n",
    "from matplotlib import colors\n",
    "import pandas as pd\n",
    "%matplotlib inline"
   ]
  },
  {
   "cell_type": "code",
   "execution_count": 2,
   "metadata": {},
   "outputs": [],
   "source": [
    "#fvbf = root_open(\"../MC_Prod_v12/mc15_13TeV.345071.MGPy8EvtGen_A14_NNPDF23LO_VBFH125_sbi_4l_m4l130_EW6.root\")\n",
    "#fgg = root_open(\"../MC_Prod_v12/mc15_13TeV.345706.Sherpa_222_NNPDF30NNLO_ggllll_130M4l.root\")\n",
    "#tvbf = fvbf.tree_incl_all\n",
    "#tgg = fgg.tree_incl_all\n",
    "fvbf = \"../MC_Prod_v12/mc15_13TeV.345071.MGPy8EvtGen_A14_NNPDF23LO_VBFH125_sbi_4l_m4l130_EW6.root\"\n",
    "fggf = \"../MC_Prod_v12/mc15_13TeV.345706.Sherpa_222_NNPDF30NNLO_ggllll_130M4l.root\"\n",
    "qq1 = \"../MC_Prod_v12/mc15_13TeV.364250.Sherpa_222_NNPDF30NNLO_llll.root\"\n",
    "qq2 = \"../MC_Prod_v12/mc15_13TeV.364251.Sherpa_222_NNPDF30NNLO_llll_m4l100_300_filt100_150.root\"\n",
    "qq3 = \"../MC_Prod_v12/mc15_13TeV.364252.Sherpa_222_NNPDF30NNLO_llll_m4l300.root\"\n",
    "tree_name = \"tree_incl_all\"\n",
    "\n",
    "selection = '(prod_type ==3 && jet_pt[0]>30 && jet_pt[1]>30 && n_jets>=2 && pass_vtx4lCut==1)'\n",
    "selection += '&& (m4l_fsr>220)'"
   ]
  },
  {
   "cell_type": "code",
   "execution_count": 3,
   "metadata": {},
   "outputs": [],
   "source": [
    "from root_pandas import read_root\n",
    "mva_input_list = [\"dijet_invmass\",\"dijet_deltaeta\",\"noexpand:jet_pt[0]\",\"noexpand:jet_pt[1]\",\n",
    "                  \"eta_zepp_ZZ\",\"min_dR_jZ\",\"noexpand:max(50,pt4ljj_unconstrained)\" \n",
    "    ,\"leading_jet_width\", \"subleading_jet_width\"  \n",
    "    #,\"leading_jet_TrackWidthPt1000\", \"subleading_jet_TrackWidthPt1000\" \n",
    "    #,\"jet_eta[0]\", \"jet_eta[1]\", \"jet_phi[0]\", \"jet_phi[1]\"\n",
    "    #,\"lepton_eta[0]\", \"lepton_eta[1]\", \"lepton_eta[2]\", \"lepton_eta[3]\"\n",
    "    #,\"lepton_pt[0]\", \"lepton_pt[1]\", \"lepton_pt[2]\", \"lepton_pt[3]\" \n",
    "    #,\"lepton_phi[0]\", \"lepton_phi[1]\", \"lepton_phi[2]\", \"lepton_phi[3]\"\n",
    "                 ]\n",
    "extract_vars = mva_input_list + ['weight_couplings', 'm4l_fsr']"
   ]
  },
  {
   "cell_type": "code",
   "execution_count": null,
   "metadata": {},
   "outputs": [],
   "source": [
    "df = read_root(fvbf, tree_name, columns=extract_vars, flatten=True, where=selection)"
   ]
  },
  {
   "cell_type": "code",
   "execution_count": null,
   "metadata": {},
   "outputs": [],
   "source": [
    "df.head(5)"
   ]
  },
  {
   "cell_type": "markdown",
   "metadata": {},
   "source": [
    "df[df.__array_index!=0]"
   ]
  },
  {
   "cell_type": "code",
   "execution_count": null,
   "metadata": {},
   "outputs": [],
   "source": [
    "df.describe()"
   ]
  },
  {
   "cell_type": "code",
   "execution_count": null,
   "metadata": {},
   "outputs": [],
   "source": [
    "df_vbf = df.copy()"
   ]
  },
  {
   "cell_type": "code",
   "execution_count": null,
   "metadata": {},
   "outputs": [],
   "source": [
    "del df_vbf[\"__array_index\"]"
   ]
  },
  {
   "cell_type": "code",
   "execution_count": null,
   "metadata": {},
   "outputs": [],
   "source": [
    "df_vbf.describe()"
   ]
  },
  {
   "cell_type": "markdown",
   "metadata": {},
   "source": [
    "ggF"
   ]
  },
  {
   "cell_type": "code",
   "execution_count": null,
   "metadata": {},
   "outputs": [],
   "source": [
    "df = read_root(fggf, tree_name, columns=extract_vars, flatten=True, where=selection)"
   ]
  },
  {
   "cell_type": "code",
   "execution_count": null,
   "metadata": {},
   "outputs": [],
   "source": [
    "df.head(5)"
   ]
  },
  {
   "cell_type": "code",
   "execution_count": null,
   "metadata": {},
   "outputs": [],
   "source": [
    "df.describe()"
   ]
  },
  {
   "cell_type": "code",
   "execution_count": null,
   "metadata": {},
   "outputs": [],
   "source": [
    "df_ggF = df.copy()"
   ]
  },
  {
   "cell_type": "code",
   "execution_count": null,
   "metadata": {},
   "outputs": [],
   "source": [
    "del df_ggF[\"__array_index\"]"
   ]
  },
  {
   "cell_type": "code",
   "execution_count": null,
   "metadata": {},
   "outputs": [],
   "source": [
    "df_ggF.weight_couplings = df_ggF.weight_couplings.multiply(2.356)"
   ]
  },
  {
   "cell_type": "code",
   "execution_count": null,
   "metadata": {},
   "outputs": [],
   "source": [
    "df_ggF.describe()"
   ]
  },
  {
   "cell_type": "code",
   "execution_count": null,
   "metadata": {},
   "outputs": [],
   "source": [
    "df_vbf.to_hdf(\"../MC_Prod_v12/vbf_events.hdf\", \"vbf\")"
   ]
  },
  {
   "cell_type": "code",
   "execution_count": null,
   "metadata": {},
   "outputs": [],
   "source": [
    "df_ggF.to_hdf(\"../MC_Prod_v12/ggF_events.hdf\", \"ggF\")"
   ]
  },
  {
   "cell_type": "code",
   "execution_count": null,
   "metadata": {},
   "outputs": [],
   "source": [
    "df_vbf.weight_couplings.sum()"
   ]
  },
  {
   "cell_type": "code",
   "execution_count": null,
   "metadata": {},
   "outputs": [],
   "source": [
    "df_ggF.weight_couplings.sum()"
   ]
  },
  {
   "cell_type": "markdown",
   "metadata": {},
   "source": [
    "# qq Background Samples"
   ]
  },
  {
   "cell_type": "code",
   "execution_count": 4,
   "metadata": {},
   "outputs": [
    {
     "name": "stderr",
     "output_type": "stream",
     "text": [
      "/usr/local/lib/python2.7/site-packages/root_pandas/readwrite.py:181: FutureWarning:  The option flatten=True is deprecated. Please specify the branches you would like to flatten in a list: flatten=['foo', 'bar']\n",
      "  \"to flatten in a list: flatten=['foo', 'bar']\", FutureWarning)\n"
     ]
    },
    {
     "data": {
      "text/html": [
       "<div>\n",
       "<style>\n",
       "    .dataframe thead tr:only-child th {\n",
       "        text-align: right;\n",
       "    }\n",
       "\n",
       "    .dataframe thead th {\n",
       "        text-align: left;\n",
       "    }\n",
       "\n",
       "    .dataframe tbody tr th {\n",
       "        vertical-align: top;\n",
       "    }\n",
       "</style>\n",
       "<table border=\"1\" class=\"dataframe\">\n",
       "  <thead>\n",
       "    <tr style=\"text-align: right;\">\n",
       "      <th></th>\n",
       "      <th>dijet_invmass</th>\n",
       "      <th>dijet_deltaeta</th>\n",
       "      <th>eta_zepp_ZZ</th>\n",
       "      <th>min_dR_jZ</th>\n",
       "      <th>leading_jet_width</th>\n",
       "      <th>subleading_jet_width</th>\n",
       "      <th>weight_couplings</th>\n",
       "      <th>m4l_fsr</th>\n",
       "      <th>jet_pt[0]</th>\n",
       "      <th>jet_pt[1]</th>\n",
       "      <th>max(50,pt4ljj_unconstrained)</th>\n",
       "    </tr>\n",
       "  </thead>\n",
       "  <tbody>\n",
       "    <tr>\n",
       "      <th>0</th>\n",
       "      <td>714.115479</td>\n",
       "      <td>2.389077</td>\n",
       "      <td>2.020999</td>\n",
       "      <td>1.628202</td>\n",
       "      <td>0.064132</td>\n",
       "      <td>0.056326</td>\n",
       "      <td>0.000000</td>\n",
       "      <td>527.262573</td>\n",
       "      <td>323.188538</td>\n",
       "      <td>120.443565</td>\n",
       "      <td>72.821983</td>\n",
       "    </tr>\n",
       "    <tr>\n",
       "      <th>1</th>\n",
       "      <td>496.011993</td>\n",
       "      <td>3.525487</td>\n",
       "      <td>0.142400</td>\n",
       "      <td>1.003170</td>\n",
       "      <td>0.068929</td>\n",
       "      <td>0.084972</td>\n",
       "      <td>0.000000</td>\n",
       "      <td>733.375916</td>\n",
       "      <td>214.519272</td>\n",
       "      <td>32.842415</td>\n",
       "      <td>50.000000</td>\n",
       "    </tr>\n",
       "    <tr>\n",
       "      <th>2</th>\n",
       "      <td>273.581299</td>\n",
       "      <td>1.808124</td>\n",
       "      <td>1.084225</td>\n",
       "      <td>1.969462</td>\n",
       "      <td>0.079682</td>\n",
       "      <td>0.102897</td>\n",
       "      <td>0.000580</td>\n",
       "      <td>289.846161</td>\n",
       "      <td>167.932663</td>\n",
       "      <td>59.146660</td>\n",
       "      <td>50.000000</td>\n",
       "    </tr>\n",
       "    <tr>\n",
       "      <th>3</th>\n",
       "      <td>957.958923</td>\n",
       "      <td>1.998420</td>\n",
       "      <td>2.959093</td>\n",
       "      <td>1.635638</td>\n",
       "      <td>0.050245</td>\n",
       "      <td>0.082461</td>\n",
       "      <td>0.000477</td>\n",
       "      <td>278.829193</td>\n",
       "      <td>476.235870</td>\n",
       "      <td>200.830353</td>\n",
       "      <td>50.000000</td>\n",
       "    </tr>\n",
       "    <tr>\n",
       "      <th>4</th>\n",
       "      <td>241.180252</td>\n",
       "      <td>2.760984</td>\n",
       "      <td>3.350705</td>\n",
       "      <td>1.815045</td>\n",
       "      <td>0.037208</td>\n",
       "      <td>0.122974</td>\n",
       "      <td>0.000000</td>\n",
       "      <td>391.991760</td>\n",
       "      <td>97.591797</td>\n",
       "      <td>33.561302</td>\n",
       "      <td>50.000000</td>\n",
       "    </tr>\n",
       "  </tbody>\n",
       "</table>\n",
       "</div>"
      ],
      "text/plain": [
       "   dijet_invmass  dijet_deltaeta  eta_zepp_ZZ  min_dR_jZ  leading_jet_width  \\\n",
       "0     714.115479        2.389077     2.020999   1.628202           0.064132   \n",
       "1     496.011993        3.525487     0.142400   1.003170           0.068929   \n",
       "2     273.581299        1.808124     1.084225   1.969462           0.079682   \n",
       "3     957.958923        1.998420     2.959093   1.635638           0.050245   \n",
       "4     241.180252        2.760984     3.350705   1.815045           0.037208   \n",
       "\n",
       "   subleading_jet_width  weight_couplings     m4l_fsr   jet_pt[0]   jet_pt[1]  \\\n",
       "0              0.056326          0.000000  527.262573  323.188538  120.443565   \n",
       "1              0.084972          0.000000  733.375916  214.519272   32.842415   \n",
       "2              0.102897          0.000580  289.846161  167.932663   59.146660   \n",
       "3              0.082461          0.000477  278.829193  476.235870  200.830353   \n",
       "4              0.122974          0.000000  391.991760   97.591797   33.561302   \n",
       "\n",
       "   max(50,pt4ljj_unconstrained)  \n",
       "0                     72.821983  \n",
       "1                     50.000000  \n",
       "2                     50.000000  \n",
       "3                     50.000000  \n",
       "4                     50.000000  "
      ]
     },
     "execution_count": 4,
     "metadata": {},
     "output_type": "execute_result"
    }
   ],
   "source": [
    "df_qq1 = read_root(qq1, tree_name, columns=extract_vars, flatten=True, where=selection)\n",
    "del df_qq1[\"__array_index\"]\n",
    "df_qq1.head(5)"
   ]
  },
  {
   "cell_type": "code",
   "execution_count": 6,
   "metadata": {},
   "outputs": [],
   "source": [
    "df_qq2 = read_root(qq2, tree_name, columns=extract_vars, flatten=True, where=selection)\n",
    "del df_qq2[\"__array_index\"]\n",
    "df_qq3 = read_root(qq3, tree_name, columns=extract_vars, flatten=True, where=selection)\n",
    "del df_qq3[\"__array_index\"]\n"
   ]
  },
  {
   "cell_type": "code",
   "execution_count": 12,
   "metadata": {},
   "outputs": [],
   "source": [
    "df_qq_all = pd.concat([df_qq1, df_qq2, df_qq3])"
   ]
  },
  {
   "cell_type": "code",
   "execution_count": 14,
   "metadata": {},
   "outputs": [
    {
     "data": {
      "text/html": [
       "<div>\n",
       "<style>\n",
       "    .dataframe thead tr:only-child th {\n",
       "        text-align: right;\n",
       "    }\n",
       "\n",
       "    .dataframe thead th {\n",
       "        text-align: left;\n",
       "    }\n",
       "\n",
       "    .dataframe tbody tr th {\n",
       "        vertical-align: top;\n",
       "    }\n",
       "</style>\n",
       "<table border=\"1\" class=\"dataframe\">\n",
       "  <thead>\n",
       "    <tr style=\"text-align: right;\">\n",
       "      <th></th>\n",
       "      <th>dijet_invmass</th>\n",
       "      <th>dijet_deltaeta</th>\n",
       "      <th>eta_zepp_ZZ</th>\n",
       "      <th>min_dR_jZ</th>\n",
       "      <th>leading_jet_width</th>\n",
       "      <th>subleading_jet_width</th>\n",
       "      <th>weight_couplings</th>\n",
       "      <th>m4l_fsr</th>\n",
       "      <th>jet_pt[0]</th>\n",
       "      <th>jet_pt[1]</th>\n",
       "      <th>max(50,pt4ljj_unconstrained)</th>\n",
       "    </tr>\n",
       "  </thead>\n",
       "  <tbody>\n",
       "    <tr>\n",
       "      <th>0</th>\n",
       "      <td>714.115479</td>\n",
       "      <td>2.389077</td>\n",
       "      <td>2.020999</td>\n",
       "      <td>1.628202</td>\n",
       "      <td>0.064132</td>\n",
       "      <td>0.056326</td>\n",
       "      <td>0.000000</td>\n",
       "      <td>527.262573</td>\n",
       "      <td>323.188538</td>\n",
       "      <td>120.443565</td>\n",
       "      <td>72.821983</td>\n",
       "    </tr>\n",
       "    <tr>\n",
       "      <th>1</th>\n",
       "      <td>496.011993</td>\n",
       "      <td>3.525487</td>\n",
       "      <td>0.142400</td>\n",
       "      <td>1.003170</td>\n",
       "      <td>0.068929</td>\n",
       "      <td>0.084972</td>\n",
       "      <td>0.000000</td>\n",
       "      <td>733.375916</td>\n",
       "      <td>214.519272</td>\n",
       "      <td>32.842415</td>\n",
       "      <td>50.000000</td>\n",
       "    </tr>\n",
       "    <tr>\n",
       "      <th>2</th>\n",
       "      <td>273.581299</td>\n",
       "      <td>1.808124</td>\n",
       "      <td>1.084225</td>\n",
       "      <td>1.969462</td>\n",
       "      <td>0.079682</td>\n",
       "      <td>0.102897</td>\n",
       "      <td>0.000580</td>\n",
       "      <td>289.846161</td>\n",
       "      <td>167.932663</td>\n",
       "      <td>59.146660</td>\n",
       "      <td>50.000000</td>\n",
       "    </tr>\n",
       "    <tr>\n",
       "      <th>3</th>\n",
       "      <td>957.958923</td>\n",
       "      <td>1.998420</td>\n",
       "      <td>2.959093</td>\n",
       "      <td>1.635638</td>\n",
       "      <td>0.050245</td>\n",
       "      <td>0.082461</td>\n",
       "      <td>0.000477</td>\n",
       "      <td>278.829193</td>\n",
       "      <td>476.235870</td>\n",
       "      <td>200.830353</td>\n",
       "      <td>50.000000</td>\n",
       "    </tr>\n",
       "    <tr>\n",
       "      <th>4</th>\n",
       "      <td>241.180252</td>\n",
       "      <td>2.760984</td>\n",
       "      <td>3.350705</td>\n",
       "      <td>1.815045</td>\n",
       "      <td>0.037208</td>\n",
       "      <td>0.122974</td>\n",
       "      <td>0.000000</td>\n",
       "      <td>391.991760</td>\n",
       "      <td>97.591797</td>\n",
       "      <td>33.561302</td>\n",
       "      <td>50.000000</td>\n",
       "    </tr>\n",
       "  </tbody>\n",
       "</table>\n",
       "</div>"
      ],
      "text/plain": [
       "   dijet_invmass  dijet_deltaeta  eta_zepp_ZZ  min_dR_jZ  leading_jet_width  \\\n",
       "0     714.115479        2.389077     2.020999   1.628202           0.064132   \n",
       "1     496.011993        3.525487     0.142400   1.003170           0.068929   \n",
       "2     273.581299        1.808124     1.084225   1.969462           0.079682   \n",
       "3     957.958923        1.998420     2.959093   1.635638           0.050245   \n",
       "4     241.180252        2.760984     3.350705   1.815045           0.037208   \n",
       "\n",
       "   subleading_jet_width  weight_couplings     m4l_fsr   jet_pt[0]   jet_pt[1]  \\\n",
       "0              0.056326          0.000000  527.262573  323.188538  120.443565   \n",
       "1              0.084972          0.000000  733.375916  214.519272   32.842415   \n",
       "2              0.102897          0.000580  289.846161  167.932663   59.146660   \n",
       "3              0.082461          0.000477  278.829193  476.235870  200.830353   \n",
       "4              0.122974          0.000000  391.991760   97.591797   33.561302   \n",
       "\n",
       "   max(50,pt4ljj_unconstrained)  \n",
       "0                     72.821983  \n",
       "1                     50.000000  \n",
       "2                     50.000000  \n",
       "3                     50.000000  \n",
       "4                     50.000000  "
      ]
     },
     "execution_count": 14,
     "metadata": {},
     "output_type": "execute_result"
    }
   ],
   "source": [
    "df_qq_all.head(5)"
   ]
  },
  {
   "cell_type": "code",
   "execution_count": 18,
   "metadata": {},
   "outputs": [
    {
     "name": "stdout",
     "output_type": "stream",
     "text": [
      "False\n",
      "60.047187374\n"
     ]
    },
    {
     "data": {
      "text/html": [
       "<div>\n",
       "<style>\n",
       "    .dataframe thead tr:only-child th {\n",
       "        text-align: right;\n",
       "    }\n",
       "\n",
       "    .dataframe thead th {\n",
       "        text-align: left;\n",
       "    }\n",
       "\n",
       "    .dataframe tbody tr th {\n",
       "        vertical-align: top;\n",
       "    }\n",
       "</style>\n",
       "<table border=\"1\" class=\"dataframe\">\n",
       "  <thead>\n",
       "    <tr style=\"text-align: right;\">\n",
       "      <th></th>\n",
       "      <th>dijet_invmass</th>\n",
       "      <th>dijet_deltaeta</th>\n",
       "      <th>eta_zepp_ZZ</th>\n",
       "      <th>min_dR_jZ</th>\n",
       "      <th>leading_jet_width</th>\n",
       "      <th>subleading_jet_width</th>\n",
       "      <th>weight_couplings</th>\n",
       "      <th>m4l_fsr</th>\n",
       "      <th>jet_pt[0]</th>\n",
       "      <th>jet_pt[1]</th>\n",
       "      <th>max(50,pt4ljj_unconstrained)</th>\n",
       "    </tr>\n",
       "  </thead>\n",
       "  <tbody>\n",
       "    <tr>\n",
       "      <th>count</th>\n",
       "      <td>127270.000000</td>\n",
       "      <td>127270.000000</td>\n",
       "      <td>127270.000000</td>\n",
       "      <td>127270.000000</td>\n",
       "      <td>127270.000000</td>\n",
       "      <td>127270.000000</td>\n",
       "      <td>127270.000000</td>\n",
       "      <td>127270.000000</td>\n",
       "      <td>127270.000000</td>\n",
       "      <td>127270.000000</td>\n",
       "      <td>127270.000000</td>\n",
       "    </tr>\n",
       "    <tr>\n",
       "      <th>mean</th>\n",
       "      <td>370.324188</td>\n",
       "      <td>2.164610</td>\n",
       "      <td>1.931160</td>\n",
       "      <td>1.535759</td>\n",
       "      <td>0.086895</td>\n",
       "      <td>0.106137</td>\n",
       "      <td>0.000472</td>\n",
       "      <td>381.655640</td>\n",
       "      <td>157.668616</td>\n",
       "      <td>80.132634</td>\n",
       "      <td>66.985173</td>\n",
       "    </tr>\n",
       "    <tr>\n",
       "      <th>std</th>\n",
       "      <td>324.393921</td>\n",
       "      <td>1.420572</td>\n",
       "      <td>1.344137</td>\n",
       "      <td>0.726985</td>\n",
       "      <td>0.045654</td>\n",
       "      <td>0.051329</td>\n",
       "      <td>0.001043</td>\n",
       "      <td>173.854248</td>\n",
       "      <td>130.143879</td>\n",
       "      <td>73.422208</td>\n",
       "      <td>48.296291</td>\n",
       "    </tr>\n",
       "    <tr>\n",
       "      <th>min</th>\n",
       "      <td>120.000160</td>\n",
       "      <td>0.000008</td>\n",
       "      <td>0.000012</td>\n",
       "      <td>0.000572</td>\n",
       "      <td>0.000033</td>\n",
       "      <td>0.000017</td>\n",
       "      <td>-0.043522</td>\n",
       "      <td>220.001297</td>\n",
       "      <td>30.063509</td>\n",
       "      <td>30.000252</td>\n",
       "      <td>50.000000</td>\n",
       "    </tr>\n",
       "    <tr>\n",
       "      <th>25%</th>\n",
       "      <td>177.397373</td>\n",
       "      <td>1.064720</td>\n",
       "      <td>0.843049</td>\n",
       "      <td>0.989873</td>\n",
       "      <td>0.052719</td>\n",
       "      <td>0.068463</td>\n",
       "      <td>0.000000</td>\n",
       "      <td>272.860207</td>\n",
       "      <td>74.345804</td>\n",
       "      <td>39.225485</td>\n",
       "      <td>50.000000</td>\n",
       "    </tr>\n",
       "    <tr>\n",
       "      <th>50%</th>\n",
       "      <td>263.033936</td>\n",
       "      <td>1.983223</td>\n",
       "      <td>1.722276</td>\n",
       "      <td>1.488675</td>\n",
       "      <td>0.079157</td>\n",
       "      <td>0.102995</td>\n",
       "      <td>0.000452</td>\n",
       "      <td>333.220810</td>\n",
       "      <td>118.632370</td>\n",
       "      <td>56.997505</td>\n",
       "      <td>50.000000</td>\n",
       "    </tr>\n",
       "    <tr>\n",
       "      <th>75%</th>\n",
       "      <td>436.417595</td>\n",
       "      <td>3.010842</td>\n",
       "      <td>2.790163</td>\n",
       "      <td>2.024466</td>\n",
       "      <td>0.114416</td>\n",
       "      <td>0.141758</td>\n",
       "      <td>0.000593</td>\n",
       "      <td>426.988731</td>\n",
       "      <td>195.956940</td>\n",
       "      <td>90.805107</td>\n",
       "      <td>64.080542</td>\n",
       "    </tr>\n",
       "    <tr>\n",
       "      <th>max</th>\n",
       "      <td>8042.396484</td>\n",
       "      <td>8.891542</td>\n",
       "      <td>9.504436</td>\n",
       "      <td>5.805477</td>\n",
       "      <td>0.278115</td>\n",
       "      <td>0.278988</td>\n",
       "      <td>0.043013</td>\n",
       "      <td>3510.856445</td>\n",
       "      <td>2304.751465</td>\n",
       "      <td>2201.538330</td>\n",
       "      <td>1815.100708</td>\n",
       "    </tr>\n",
       "  </tbody>\n",
       "</table>\n",
       "</div>"
      ],
      "text/plain": [
       "       dijet_invmass  dijet_deltaeta    eta_zepp_ZZ      min_dR_jZ  \\\n",
       "count  127270.000000   127270.000000  127270.000000  127270.000000   \n",
       "mean      370.324188        2.164610       1.931160       1.535759   \n",
       "std       324.393921        1.420572       1.344137       0.726985   \n",
       "min       120.000160        0.000008       0.000012       0.000572   \n",
       "25%       177.397373        1.064720       0.843049       0.989873   \n",
       "50%       263.033936        1.983223       1.722276       1.488675   \n",
       "75%       436.417595        3.010842       2.790163       2.024466   \n",
       "max      8042.396484        8.891542       9.504436       5.805477   \n",
       "\n",
       "       leading_jet_width  subleading_jet_width  weight_couplings  \\\n",
       "count      127270.000000         127270.000000     127270.000000   \n",
       "mean            0.086895              0.106137          0.000472   \n",
       "std             0.045654              0.051329          0.001043   \n",
       "min             0.000033              0.000017         -0.043522   \n",
       "25%             0.052719              0.068463          0.000000   \n",
       "50%             0.079157              0.102995          0.000452   \n",
       "75%             0.114416              0.141758          0.000593   \n",
       "max             0.278115              0.278988          0.043013   \n",
       "\n",
       "             m4l_fsr      jet_pt[0]      jet_pt[1]  \\\n",
       "count  127270.000000  127270.000000  127270.000000   \n",
       "mean      381.655640     157.668616      80.132634   \n",
       "std       173.854248     130.143879      73.422208   \n",
       "min       220.001297      30.063509      30.000252   \n",
       "25%       272.860207      74.345804      39.225485   \n",
       "50%       333.220810     118.632370      56.997505   \n",
       "75%       426.988731     195.956940      90.805107   \n",
       "max      3510.856445    2304.751465    2201.538330   \n",
       "\n",
       "       max(50,pt4ljj_unconstrained)  \n",
       "count                 127270.000000  \n",
       "mean                      66.985173  \n",
       "std                       48.296291  \n",
       "min                       50.000000  \n",
       "25%                       50.000000  \n",
       "50%                       50.000000  \n",
       "75%                       64.080542  \n",
       "max                     1815.100708  "
      ]
     },
     "execution_count": 18,
     "metadata": {},
     "output_type": "execute_result"
    }
   ],
   "source": [
    "print df_qq_all.isnull().any().any()\n",
    "print df_qq_all.weight_couplings.sum()\n",
    "df_qq_all.describe()"
   ]
  },
  {
   "cell_type": "code",
   "execution_count": 19,
   "metadata": {},
   "outputs": [],
   "source": [
    "df_qq_all.to_hdf(\"../MC_Prod_v12/qq_all_events.hdf\", \"qq_all\") # do hdf5!!!"
   ]
  },
  {
   "cell_type": "code",
   "execution_count": null,
   "metadata": {},
   "outputs": [],
   "source": []
  }
 ],
 "metadata": {
  "kernelspec": {
   "display_name": "Python 2",
   "language": "python",
   "name": "python2"
  },
  "language_info": {
   "codemirror_mode": {
    "name": "ipython",
    "version": 2
   },
   "file_extension": ".py",
   "mimetype": "text/x-python",
   "name": "python",
   "nbconvert_exporter": "python",
   "pygments_lexer": "ipython2",
   "version": "2.7.14"
  },
  "toc": {
   "nav_menu": {},
   "number_sections": true,
   "sideBar": true,
   "skip_h1_title": false,
   "toc_cell": false,
   "toc_position": {},
   "toc_section_display": "block",
   "toc_window_display": false
  },
  "varInspector": {
   "cols": {
    "lenName": 16,
    "lenType": 16,
    "lenVar": 40
   },
   "kernels_config": {
    "python": {
     "delete_cmd_postfix": "",
     "delete_cmd_prefix": "del ",
     "library": "var_list.py",
     "varRefreshCmd": "print(var_dic_list())"
    },
    "r": {
     "delete_cmd_postfix": ") ",
     "delete_cmd_prefix": "rm(",
     "library": "var_list.r",
     "varRefreshCmd": "cat(var_dic_list()) "
    }
   },
   "types_to_exclude": [
    "module",
    "function",
    "builtin_function_or_method",
    "instance",
    "_Feature"
   ],
   "window_display": false
  }
 },
 "nbformat": 4,
 "nbformat_minor": 2
}
