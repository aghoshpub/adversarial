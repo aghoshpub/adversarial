{
 "cells": [
  {
   "cell_type": "code",
   "execution_count": 1,
   "metadata": {},
   "outputs": [],
   "source": [
    "import numpy as np\n",
    "import pandas as pd\n",
    "import matplotlib.pyplot as plt\n",
    "from IPython import display\n",
    "%matplotlib inline"
   ]
  },
  {
   "cell_type": "code",
   "execution_count": 2,
   "metadata": {},
   "outputs": [],
   "source": [
    "#load signal, backgound data\n",
    "vbf_events = pd.read_hdf(\"../MC_Prod_v12/vbf_events.hdf\", \"vbf\")\n",
    "ggf_events = pd.read_hdf(\"../MC_Prod_v12/ggF_events.hdf\", \"ggF\")"
   ]
  },
  {
   "cell_type": "code",
   "execution_count": 3,
   "metadata": {},
   "outputs": [],
   "source": [
    "vbf_events[\"class\"] = 1\n",
    "ggf_events[\"class\"] = 0"
   ]
  },
  {
   "cell_type": "code",
   "execution_count": 4,
   "metadata": {},
   "outputs": [],
   "source": [
    "data = pd.concat([vbf_events, ggf_events])\n",
    "#print data.isnull().values.any()\n",
    "#data.describe()\n",
    "###data = data.sample(frac=1).reset_index(drop=True) #shuffle the events\n",
    "target = data[\"class\"]\n",
    "mass = data[\"m4l_fsr\"]\n",
    "weights = data[\"weight_couplings\"]\n",
    "del data[\"class\"]\n",
    "del data[\"m4l_fsr\"]\n",
    "del data[\"weight_couplings\"]"
   ]
  },
  {
   "cell_type": "code",
   "execution_count": 5,
   "metadata": {},
   "outputs": [
    {
     "data": {
      "text/html": [
       "<div>\n",
       "<style>\n",
       "    .dataframe thead tr:only-child th {\n",
       "        text-align: right;\n",
       "    }\n",
       "\n",
       "    .dataframe thead th {\n",
       "        text-align: left;\n",
       "    }\n",
       "\n",
       "    .dataframe tbody tr th {\n",
       "        vertical-align: top;\n",
       "    }\n",
       "</style>\n",
       "<table border=\"1\" class=\"dataframe\">\n",
       "  <thead>\n",
       "    <tr style=\"text-align: right;\">\n",
       "      <th></th>\n",
       "      <th>dijet_invmass</th>\n",
       "      <th>dijet_deltaeta</th>\n",
       "      <th>eta_zepp_ZZ</th>\n",
       "      <th>min_dR_jZ</th>\n",
       "      <th>leading_jet_width</th>\n",
       "      <th>subleading_jet_width</th>\n",
       "      <th>jet_pt[0]</th>\n",
       "      <th>jet_pt[1]</th>\n",
       "      <th>max(50,pt4ljj_unconstrained)</th>\n",
       "    </tr>\n",
       "  </thead>\n",
       "  <tbody>\n",
       "    <tr>\n",
       "      <th>0</th>\n",
       "      <td>1075.558105</td>\n",
       "      <td>4.699279</td>\n",
       "      <td>2.898563</td>\n",
       "      <td>1.453795</td>\n",
       "      <td>0.024474</td>\n",
       "      <td>0.051716</td>\n",
       "      <td>115.762711</td>\n",
       "      <td>89.511841</td>\n",
       "      <td>50.0</td>\n",
       "    </tr>\n",
       "    <tr>\n",
       "      <th>1</th>\n",
       "      <td>1202.593994</td>\n",
       "      <td>6.071388</td>\n",
       "      <td>0.497752</td>\n",
       "      <td>2.247662</td>\n",
       "      <td>0.055005</td>\n",
       "      <td>0.156131</td>\n",
       "      <td>84.022003</td>\n",
       "      <td>39.781601</td>\n",
       "      <td>50.0</td>\n",
       "    </tr>\n",
       "    <tr>\n",
       "      <th>2</th>\n",
       "      <td>1354.643677</td>\n",
       "      <td>4.311814</td>\n",
       "      <td>1.048307</td>\n",
       "      <td>1.511708</td>\n",
       "      <td>0.045414</td>\n",
       "      <td>0.073966</td>\n",
       "      <td>237.697937</td>\n",
       "      <td>100.782516</td>\n",
       "      <td>50.0</td>\n",
       "    </tr>\n",
       "    <tr>\n",
       "      <th>3</th>\n",
       "      <td>1214.798950</td>\n",
       "      <td>4.572437</td>\n",
       "      <td>0.751334</td>\n",
       "      <td>2.628882</td>\n",
       "      <td>0.009061</td>\n",
       "      <td>0.085861</td>\n",
       "      <td>148.801834</td>\n",
       "      <td>101.184219</td>\n",
       "      <td>50.0</td>\n",
       "    </tr>\n",
       "    <tr>\n",
       "      <th>4</th>\n",
       "      <td>257.967102</td>\n",
       "      <td>0.636858</td>\n",
       "      <td>1.360611</td>\n",
       "      <td>1.793144</td>\n",
       "      <td>0.028433</td>\n",
       "      <td>0.061954</td>\n",
       "      <td>204.326157</td>\n",
       "      <td>73.991447</td>\n",
       "      <td>50.0</td>\n",
       "    </tr>\n",
       "  </tbody>\n",
       "</table>\n",
       "</div>"
      ],
      "text/plain": [
       "   dijet_invmass  dijet_deltaeta  eta_zepp_ZZ  min_dR_jZ  leading_jet_width  \\\n",
       "0    1075.558105        4.699279     2.898563   1.453795           0.024474   \n",
       "1    1202.593994        6.071388     0.497752   2.247662           0.055005   \n",
       "2    1354.643677        4.311814     1.048307   1.511708           0.045414   \n",
       "3    1214.798950        4.572437     0.751334   2.628882           0.009061   \n",
       "4     257.967102        0.636858     1.360611   1.793144           0.028433   \n",
       "\n",
       "   subleading_jet_width   jet_pt[0]   jet_pt[1]  max(50,pt4ljj_unconstrained)  \n",
       "0              0.051716  115.762711   89.511841                          50.0  \n",
       "1              0.156131   84.022003   39.781601                          50.0  \n",
       "2              0.073966  237.697937  100.782516                          50.0  \n",
       "3              0.085861  148.801834  101.184219                          50.0  \n",
       "4              0.061954  204.326157   73.991447                          50.0  "
      ]
     },
     "execution_count": 5,
     "metadata": {},
     "output_type": "execute_result"
    }
   ],
   "source": [
    "data.head(5)"
   ]
  },
  {
   "cell_type": "code",
   "execution_count": 6,
   "metadata": {},
   "outputs": [
    {
     "name": "stderr",
     "output_type": "stream",
     "text": [
      "/usr/local/lib/python2.7/site-packages/sklearn/model_selection/_split.py:2010: FutureWarning: From version 0.21, test_size will always complement train_size unless both are specified.\n",
      "  FutureWarning)\n"
     ]
    }
   ],
   "source": [
    "from sklearn.model_selection import train_test_split\n",
    "from sklearn.preprocessing import StandardScaler\n",
    "\n",
    "X_train, X_test, y_train, y_test, mass_train, mass_test, weights_train, weights_test = \\\n",
    "    train_test_split(data, target, mass, weights, train_size=0.75)\n",
    "scaler = StandardScaler()\n",
    "X_train = scaler.fit_transform(X_train)\n",
    "X_test = scaler.transform(X_test)"
   ]
  },
  {
   "cell_type": "code",
   "execution_count": 8,
   "metadata": {},
   "outputs": [
    {
     "name": "stderr",
     "output_type": "stream",
     "text": [
      "Using TensorFlow backend.\n",
      "/usr/local/lib/python2.7/site-packages/ipykernel_launcher.py:12: UserWarning: Update your `Model` call to the Keras 2 API: `Model(outputs=[<tf.Tenso..., inputs=[<tf.Tenso...)`\n",
      "  if sys.path[0] == '':\n"
     ]
    }
   ],
   "source": [
    "import keras.backend as K\n",
    "from keras.layers import Input, Dense\n",
    "from keras.models import Model\n",
    "#from keras.optimizers import SGD\n",
    "\n",
    "#@TODO: check other activations in Andreas, Gilles pivot\n",
    "inputs = Input(shape=(X_train.shape[1],))\n",
    "Dx = Dense(32, activation=\"relu\")(inputs)\n",
    "Dx = Dense(32, activation=\"relu\")(Dx)\n",
    "Dx = Dense(32, activation=\"relu\")(Dx)\n",
    "Dx = Dense(1, activation=\"sigmoid\")(Dx)\n",
    "D = Model(input=[inputs], output=[Dx])\n",
    "D.compile(loss=\"binary_crossentropy\", optimizer=\"adam\")"
   ]
  },
  {
   "cell_type": "code",
   "execution_count": 11,
   "metadata": {},
   "outputs": [
    {
     "name": "stderr",
     "output_type": "stream",
     "text": [
      "/usr/local/lib/python2.7/site-packages/ipykernel_launcher.py:2: UserWarning: The `nb_epoch` argument in `fit` has been renamed `epochs`.\n",
      "  \n"
     ]
    },
    {
     "name": "stdout",
     "output_type": "stream",
     "text": [
      "Epoch 1/10\n",
      "72115/72115 [==============================] - 5s - loss: 0.2794     \n",
      "Epoch 2/10\n",
      "72115/72115 [==============================] - 5s - loss: 0.2653     \n",
      "Epoch 3/10\n",
      "72115/72115 [==============================] - 5s - loss: 0.2635     \n",
      "Epoch 4/10\n",
      "72115/72115 [==============================] - 5s - loss: 0.2624     \n",
      "Epoch 5/10\n",
      "72115/72115 [==============================] - 5s - loss: 0.2617     \n",
      "Epoch 6/10\n",
      "72115/72115 [==============================] - 5s - loss: 0.2614     \n",
      "Epoch 7/10\n",
      "72115/72115 [==============================] - 5s - loss: 0.2607     \n",
      "Epoch 8/10\n",
      "72115/72115 [==============================] - 5s - loss: 0.2606     \n",
      "Epoch 9/10\n",
      "72115/72115 [==============================] - 5s - loss: 0.2600     \n",
      "Epoch 10/10\n",
      "72115/72115 [==============================] - 5s - loss: 0.2597     \n"
     ]
    },
    {
     "data": {
      "text/plain": [
       "<keras.callbacks.History at 0x10a367a10>"
      ]
     },
     "execution_count": 11,
     "metadata": {},
     "output_type": "execute_result"
    }
   ],
   "source": [
    "#D.fit(X_train, y_train, sample_weight=weights_train, nb_epoch=10)\n",
    "D.fit(X_train, y_train, nb_epoch=10)"
   ]
  },
  {
   "cell_type": "code",
   "execution_count": 12,
   "metadata": {},
   "outputs": [
    {
     "data": {
      "text/plain": [
       "0.88836525425576107"
      ]
     },
     "execution_count": 12,
     "metadata": {},
     "output_type": "execute_result"
    }
   ],
   "source": [
    "from sklearn.metrics import roc_auc_score\n",
    "y_pred = D.predict(X_test)\n",
    "y_pred = y_pred.ravel()\n",
    "#roc_auc_score(y_true=y_test, y_score=y_pred, sample_weight=weights_test)\n",
    "roc_auc_score(y_true=y_test, y_score=y_pred)"
   ]
  },
  {
   "cell_type": "code",
   "execution_count": 13,
   "metadata": {},
   "outputs": [
    {
     "data": {
      "text/plain": [
       "array([ 0.45152518,  0.96120775,  0.76799023, ...,  0.99661583,\n",
       "        0.99386913,  0.96464276], dtype=float32)"
      ]
     },
     "execution_count": 13,
     "metadata": {},
     "output_type": "execute_result"
    }
   ],
   "source": [
    "y_pred"
   ]
  },
  {
   "cell_type": "code",
   "execution_count": 14,
   "metadata": {},
   "outputs": [
    {
     "data": {
      "text/plain": [
       "count    96154.000000\n",
       "mean       409.301788\n",
       "std        219.603745\n",
       "min        220.001450\n",
       "25%        269.205750\n",
       "50%        338.666626\n",
       "75%        467.695061\n",
       "max       3806.846436\n",
       "Name: m4l_fsr, dtype: float64"
      ]
     },
     "execution_count": 14,
     "metadata": {},
     "output_type": "execute_result"
    }
   ],
   "source": [
    "mass.describe()"
   ]
  },
  {
   "cell_type": "code",
   "execution_count": 16,
   "metadata": {},
   "outputs": [
    {
     "data": {
      "image/png": "[encoded data removed]",
      "text/plain": [
       "<matplotlib.figure.Figure at 0x10a343d90>"
      ]
     },
     "metadata": {},
     "output_type": "display_data"
    }
   ],
   "source": [
    "#plt.hist(y_pred[mass_test<409], weights=weights_test[mass_test<409], bins=50, histtype=\"step\", normed=1, label=\"Low\")\n",
    "#plt.hist(y_pred[mass_test>=409], weights=weights_test[mass_test>=409], bins=50, histtype=\"step\", normed=1, label=\"High\")\n",
    "plt.hist(y_pred[mass_test<409], bins=50, histtype=\"step\", normed=1, label=\"Low\")\n",
    "plt.hist(y_pred[mass_test>=409], bins=50, histtype=\"step\", normed=1, label=\"High\")\n",
    "\n",
    "\n",
    "plt.ylim(0, 30)\n",
    "plt.legend()\n",
    "plt.grid()\n",
    "plt.show()"
   ]
  },
  {
   "cell_type": "code",
   "execution_count": 17,
   "metadata": {},
   "outputs": [
    {
     "name": "stdout",
     "output_type": "stream",
     "text": [
      "Unweighted correlation with mass is (0.14981696, 1.1130920531550135e-120)\n"
     ]
    }
   ],
   "source": [
    "from scipy.stats import pearsonr\n",
    "corr = pearsonr(mass_test, y_pred.ravel())\n",
    "print \"Unweighted correlation with mass is\", corr"
   ]
  },
  {
   "cell_type": "code",
   "execution_count": null,
   "metadata": {},
   "outputs": [],
   "source": []
  },
  {
   "cell_type": "code",
   "execution_count": null,
   "metadata": {},
   "outputs": [],
   "source": [
    "# now first put weights or itll just get all vbf correct"
   ]
  },
  {
   "cell_type": "code",
   "execution_count": 18,
   "metadata": {},
   "outputs": [
    {
     "data": {
      "text/plain": [
       "0.93156953284246435"
      ]
     },
     "execution_count": 18,
     "metadata": {},
     "output_type": "execute_result"
    }
   ],
   "source": [
    "(y_pred>0.5).sum()/float(y_pred.shape[0])"
   ]
  },
  {
   "cell_type": "code",
   "execution_count": null,
   "metadata": {},
   "outputs": [],
   "source": []
  },
  {
   "cell_type": "code",
   "execution_count": null,
   "metadata": {},
   "outputs": [],
   "source": [
    "# train with weights\n",
    "# train with equalized weights\n",
    "# shuffle dataset"
   ]
  }
 ],
 "metadata": {
  "kernelspec": {
   "display_name": "Python 2",
   "language": "python",
   "name": "python2"
  },
  "language_info": {
   "codemirror_mode": {
    "name": "ipython",
    "version": 2
   },
   "file_extension": ".py",
   "mimetype": "text/x-python",
   "name": "python",
   "nbconvert_exporter": "python",
   "pygments_lexer": "ipython2",
   "version": "2.7.14"
  }
 },
 "nbformat": 4,
 "nbformat_minor": 2
}
