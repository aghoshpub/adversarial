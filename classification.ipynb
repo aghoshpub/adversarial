{
 "cells": [
  {
   "cell_type": "code",
   "execution_count": 1,
   "metadata": {},
   "outputs": [],
   "source": [
    "import numpy as np\n",
    "import pandas as pd\n",
    "import matplotlib.pyplot as plt\n",
    "from IPython import display\n",
    "%matplotlib inline"
   ]
  },
  {
   "cell_type": "markdown",
   "metadata": {},
   "source": [
    "# Load Data"
   ]
  },
  {
   "cell_type": "code",
   "execution_count": 2,
   "metadata": {},
   "outputs": [],
   "source": [
    "#load signal, backgound data\n",
    "vbf_events = pd.read_hdf(\"../MC_Prod_v12/vbf_events.hdf\", \"vbf\") #do hdf5!!\n",
    "ggf_events = pd.read_hdf(\"../MC_Prod_v12/ggF_events.hdf\", \"ggF\")\n",
    "qq_events = pd.read_hdf(\"../MC_Prod_v12/qq_all_events.hdf\", \"qq_all\")"
   ]
  },
  {
   "cell_type": "code",
   "execution_count": 3,
   "metadata": {},
   "outputs": [],
   "source": [
    "vbf_events[\"class\"] = 1\n",
    "ggf_events[\"class\"] = 2 # need to reweight ggF better! set to 0 afterwards\n",
    "qq_events[\"class\"] = 0"
   ]
  },
  {
   "cell_type": "code",
   "execution_count": 4,
   "metadata": {},
   "outputs": [
    {
     "name": "stdout",
     "output_type": "stream",
     "text": [
      "(60.047187373963304, 6.0885523004705586, 8.7771621167023159)\n"
     ]
    },
    {
     "data": {
      "text/plain": [
       "60.047187373963304"
      ]
     },
     "execution_count": 4,
     "metadata": {},
     "output_type": "execute_result"
    }
   ],
   "source": [
    "class_weights = qq_events.weight_couplings.sum(), vbf_events.weight_couplings.sum(), ggf_events.weight_couplings.sum()\n",
    "print class_weights\n",
    "max(class_weights)"
   ]
  },
  {
   "cell_type": "code",
   "execution_count": 5,
   "metadata": {},
   "outputs": [],
   "source": [
    "data = pd.concat([vbf_events, ggf_events, qq_events])\n",
    "#data = pd.concat([vbf_events, ggf_events])\n",
    "#print data.isnull().values.any()\n",
    "#data.describe()\n",
    "\n",
    "data = data.sample(frac=1).reset_index(drop=True) #shuffle the events\n",
    "target = data[\"class\"]\n",
    "mass = data[\"m4l_fsr\"]\n",
    "weights = data[\"weight_couplings\"]\n",
    "del data[\"class\"]\n",
    "del data[\"m4l_fsr\"]\n",
    "del data[\"weight_couplings\"]"
   ]
  },
  {
   "cell_type": "code",
   "execution_count": 6,
   "metadata": {},
   "outputs": [],
   "source": [
    "mass = mass.apply(np.log)\n",
    "mass_max, mass_min = mass.max(), mass.min()\n",
    "mass = (mass - mass_min)/(mass_max - mass_min) #!!! save max, min values to file\n",
    "#mass.describe()\n",
    "#plt.hist(mass)\n",
    "#plt.show()"
   ]
  },
  {
   "cell_type": "code",
   "execution_count": 7,
   "metadata": {},
   "outputs": [],
   "source": [
    "#data.head(5)"
   ]
  },
  {
   "cell_type": "markdown",
   "metadata": {},
   "source": [
    "### Split Train-Test"
   ]
  },
  {
   "cell_type": "markdown",
   "metadata": {},
   "source": [
    "### Reweight Events\n",
    "Training: 1000x everything, fraction 1/3 VBF 1/3 ggF 1/3 qq ~~0.5 VBF, 0.25 ggF, 0.25 qq~~\n",
    "\n",
    "Testing: Back to original VBF, ggF, qq sum of weights"
   ]
  },
  {
   "cell_type": "code",
   "execution_count": 8,
   "metadata": {},
   "outputs": [
    {
     "name": "stderr",
     "output_type": "stream",
     "text": [
      "/usr/local/lib/python2.7/site-packages/sklearn/model_selection/_split.py:2010: FutureWarning: From version 0.21, test_size will always complement train_size unless both are specified.\n",
      "  FutureWarning)\n"
     ]
    }
   ],
   "source": [
    "from sklearn.model_selection import train_test_split\n",
    "from sklearn.preprocessing import StandardScaler\n",
    "\n",
    "X_train, X_test, y_train, y_test, mass_train, mass_test, weights_train, weights_test = \\\n",
    "    train_test_split(data, target, mass, weights, train_size=0.75)\n",
    "#reset index for dataseries, not needed for ndarray (X_train, X_test)\n",
    "y_train, y_test, mass_train, mass_test, weights_train, weights_test = \\\n",
    " y_train.reset_index(drop=True),y_test.reset_index(drop=True), \\\n",
    "    mass_train.reset_index(drop=True), mass_test.reset_index(drop=True), \\\n",
    "    weights_train.reset_index(drop=True), weights_test.reset_index(drop=True)\n",
    "\n",
    "scaler = StandardScaler()\n",
    "X_train = scaler.fit_transform(X_train)\n",
    "X_test = scaler.transform(X_test)\n",
    "\n",
    "class_weights_test = weights_test[y_test == 0].sum(), weights_test[y_test == 1].sum(), weights_test[y_test == 2].sum()\n",
    "scale_up = 1000.\n",
    "for i in xrange(3):\n",
    "    weights_train[y_train == i] *= scale_up*max(class_weights)/ class_weights[i]\n",
    "    weights_test[y_test == i] *= class_weights[i]/class_weights_test[i]\n"
   ]
  },
  {
   "cell_type": "code",
   "execution_count": 9,
   "metadata": {},
   "outputs": [
    {
     "data": {
      "text/plain": [
       "(44686.778169783771, 45196.726136144709, 44944.311851290033)"
      ]
     },
     "execution_count": 9,
     "metadata": {},
     "output_type": "execute_result"
    }
   ],
   "source": [
    "weights_train[y_train == 0].sum(), weights_train[y_train == 1].sum(), weights_train[y_train == 2].sum()"
   ]
  },
  {
   "cell_type": "code",
   "execution_count": 10,
   "metadata": {},
   "outputs": [
    {
     "data": {
      "text/plain": [
       "(60.047187373963297, 6.0885523004705586, 8.7771621167023159)"
      ]
     },
     "execution_count": 10,
     "metadata": {},
     "output_type": "execute_result"
    }
   ],
   "source": [
    "weights_test[y_test == 0].sum(), weights_test[y_test == 1].sum(), weights_test[y_test == 2].sum()"
   ]
  },
  {
   "cell_type": "markdown",
   "metadata": {},
   "source": [
    "### Make ggF background"
   ]
  },
  {
   "cell_type": "code",
   "execution_count": 11,
   "metadata": {},
   "outputs": [],
   "source": [
    "y_train[y_train == 2] = 0\n",
    "y_test[y_test == 2] = 0"
   ]
  },
  {
   "cell_type": "markdown",
   "metadata": {},
   "source": [
    "# Classical NN"
   ]
  },
  {
   "cell_type": "code",
   "execution_count": null,
   "metadata": {},
   "outputs": [],
   "source": [
    "import keras.backend as K\n",
    "from keras.layers import Input, Dense\n",
    "from keras.models import Model\n",
    "\n",
    "\n",
    "#@TODO: check other activations in Andreas, Gilles pivot\n",
    "inputs = Input(shape=(X_train.shape[1],))\n",
    "Dx = Dense(32, activation=\"relu\")(inputs)\n",
    "Dx = Dense(32, activation=\"relu\")(Dx)\n",
    "Dx = Dense(32, activation=\"relu\")(Dx)\n",
    "Dx = Dense(1, activation=\"sigmoid\")(Dx)\n",
    "D = Model(input=[inputs], output=[Dx])\n",
    "D.compile(loss=\"binary_crossentropy\", optimizer=\"adam\")"
   ]
  },
  {
   "cell_type": "code",
   "execution_count": null,
   "metadata": {},
   "outputs": [],
   "source": [
    "#weights_train.isnull().any()"
   ]
  },
  {
   "cell_type": "code",
   "execution_count": null,
   "metadata": {},
   "outputs": [],
   "source": [
    "#weights_train *=1000000"
   ]
  },
  {
   "cell_type": "code",
   "execution_count": null,
   "metadata": {},
   "outputs": [],
   "source": [
    "#weights_train.describe()"
   ]
  },
  {
   "cell_type": "code",
   "execution_count": null,
   "metadata": {},
   "outputs": [],
   "source": [
    "#(weights_train ==0).any()"
   ]
  },
  {
   "cell_type": "markdown",
   "metadata": {},
   "source": [
    "def get_class_weights(y, smooth_factor=0):\n",
    "    \"\"\"\n",
    "    Returns the weights for each class based on the frequencies of the samples\n",
    "    :param smooth_factor: factor that smooths extremely uneven weights\n",
    "    :param y: list of true labels (the labels must be hashable)\n",
    "    :return: dictionary with the weight for each class\n",
    "    \"\"\"\n",
    "    from collections import Counter\n",
    "    counter = Counter(y)\n",
    "\n",
    "    if smooth_factor > 0:\n",
    "        p = max(counter.values()) * smooth_factor\n",
    "        for k in counter.keys():\n",
    "            counter[k] += p\n",
    "\n",
    "    majority = max(counter.values())\n",
    "\n",
    "    return {cls: float(majority) / count for cls, count in counter.items()}"
   ]
  },
  {
   "cell_type": "code",
   "execution_count": null,
   "metadata": {},
   "outputs": [],
   "source": []
  },
  {
   "cell_type": "code",
   "execution_count": null,
   "metadata": {},
   "outputs": [],
   "source": [
    "D.fit(X_train, y_train, sample_weight=weights_train, nb_epoch=10)\n",
    "#D.fit(X_train, y_train, sample_weight=weights_train, nb_epoch=1) #short for testing purposes\n",
    "#D.fit(X_train, y_train, nb_epoch=10) #unweighted training\n",
    "#D.fit(X_train, y_train, nb_epoch=10, class_weight=get_class_weights(y_train)) #Only interclass weights"
   ]
  },
  {
   "cell_type": "code",
   "execution_count": null,
   "metadata": {},
   "outputs": [],
   "source": [
    "#get_class_weights(y_train)"
   ]
  },
  {
   "cell_type": "code",
   "execution_count": null,
   "metadata": {},
   "outputs": [],
   "source": [
    "len(vbf_events), len(ggf_events), len(qq_events)"
   ]
  },
  {
   "cell_type": "code",
   "execution_count": null,
   "metadata": {},
   "outputs": [],
   "source": [
    "(y_test ==2).sum()"
   ]
  },
  {
   "cell_type": "code",
   "execution_count": null,
   "metadata": {},
   "outputs": [],
   "source": [
    "from sklearn.metrics import roc_auc_score\n",
    "y_pred = D.predict(X_test)\n",
    "y_pred = y_pred.ravel()\n",
    "roc_auc_score(y_true=y_test, y_score=y_pred, sample_weight=weights_test)\n",
    "#roc_auc_score(y_true=y_test, y_score=y_pred)"
   ]
  },
  {
   "cell_type": "code",
   "execution_count": null,
   "metadata": {},
   "outputs": [],
   "source": [
    "y_pred_train = D.predict(X_train).ravel()"
   ]
  },
  {
   "cell_type": "code",
   "execution_count": null,
   "metadata": {},
   "outputs": [],
   "source": [
    "#int_pred_test_sig = [weights_train[(y_train ==1) & (y_pred_train > th_cut)].sum() for th_cut in np.linspace(0,1,num=50)]\n",
    "#int_pred_test_bkg = [weights_train[(y_train ==0) & (y_pred_train > th_cut)].sum() for th_cut in np.linspace(0,1,num=50)]\n",
    "\n",
    "int_pred_test_sig = [weights_test[(y_test ==1) & (y_pred > th_cut)].sum() for th_cut in np.linspace(0,1,num=50)]\n",
    "int_pred_test_bkg = [weights_test[(y_test ==0) & (y_pred > th_cut)].sum() for th_cut in np.linspace(0,1,num=50)]"
   ]
  },
  {
   "cell_type": "code",
   "execution_count": null,
   "metadata": {},
   "outputs": [],
   "source": [
    "plt.plot(np.linspace(0,1,num=50),int_pred_test_sig)\n",
    "plt.plot(np.linspace(0,1,num=50),int_pred_test_bkg)"
   ]
  },
  {
   "cell_type": "code",
   "execution_count": null,
   "metadata": {},
   "outputs": [],
   "source": [
    "from util_func import amsasimov\n",
    "vamsasimov = [amsasimov(sumsig,sumbkg) for (sumsig,sumbkg) in zip(int_pred_test_sig,int_pred_test_bkg)]\n",
    "significance = max(vamsasimov)\n",
    "threshold = np.linspace(0,1,num=50)[ np.array(vamsasimov).argmax() ]"
   ]
  },
  {
   "cell_type": "code",
   "execution_count": null,
   "metadata": {},
   "outputs": [],
   "source": [
    "significance, threshold"
   ]
  },
  {
   "cell_type": "code",
   "execution_count": null,
   "metadata": {},
   "outputs": [],
   "source": [
    "plt.plot(np.linspace(0,1,num=50),vamsasimov)"
   ]
  },
  {
   "cell_type": "code",
   "execution_count": null,
   "metadata": {},
   "outputs": [],
   "source": [
    "from util_func import compare_train_test\n",
    "compare_train_test(y_pred_train, y_train, y_pred, y_test)"
   ]
  },
  {
   "cell_type": "markdown",
   "metadata": {},
   "source": [
    "mass_test.describe()"
   ]
  },
  {
   "cell_type": "markdown",
   "metadata": {},
   "source": [
    "plt.hist(y_pred[mass_test<mass_test.mean()], weights=weights_test[mass_test<mass_test.mean()], bins=50, histtype=\"step\", normed=1, label=\"Low\")\n",
    "plt.hist(y_pred[mass_test>=mass_test.mean()], weights=weights_test[mass_test>=mass_test.mean()], bins=50, histtype=\"step\", normed=1, label=\"High\")\n",
    "#plt.hist(y_pred[mass_test<mass.mean()], bins=50, histtype=\"step\", normed=1, label=\"Low\")\n",
    "#plt.hist(y_pred[mass_test>=mass.mean()], bins=50, histtype=\"step\", normed=1, label=\"High\")\n",
    "\n",
    "\n",
    "plt.ylim(0, 5)\n",
    "plt.legend()\n",
    "plt.grid()\n",
    "plt.show()# @TODO: do sep for signal background, plot mass : full mass dist, vs after cut on bdt"
   ]
  },
  {
   "cell_type": "markdown",
   "metadata": {},
   "source": [
    "signal_low = list (set( np.where(y_test==1)[0] ) & set( np.where(mass_test<mass_test.mean())[0]))\n",
    "signal_high = list (set( np.where(y_test==1)[0] ) & set( np.where(mass_test>=mass_test.mean())[0]))\n",
    "\n",
    "plt.hist(y_pred[signal_low], weights=weights_test[signal_low], bins=50, histtype=\"step\", normed=1, label=\"Low\")\n",
    "plt.hist(y_pred[signal_high], weights=weights_test[signal_high], bins=50, histtype=\"step\", normed=1, label=\"High\")\n",
    "\n",
    "plt.title(\"Predicted scores for VBF events for low and high mass\")\n",
    "plt.ylim(0, 8)\n",
    "plt.legend()\n",
    "plt.grid()\n",
    "plt.show()"
   ]
  },
  {
   "cell_type": "markdown",
   "metadata": {},
   "source": [
    "bkg_low = list (set( np.where(y_test==0)[0] ) & set( np.where(mass_test<mass_test.mean())[0]))\n",
    "bkg_high = list (set( np.where(y_test==0)[0] ) & set( np.where(mass_test>=mass_test.mean())[0]))\n",
    "\n",
    "plt.hist(y_pred[bkg_low], weights=weights_test[bkg_low], bins=50, histtype=\"step\", normed=1, label=\"Low\")\n",
    "plt.hist(y_pred[bkg_high], weights=weights_test[bkg_high], bins=50, histtype=\"step\", normed=1, label=\"High\")\n",
    "\n",
    "plt.title(\"Predicted scores for background events for low and high mass\")\n",
    "plt.ylim(0, 4)\n",
    "plt.legend()\n",
    "plt.grid()\n",
    "plt.show()"
   ]
  },
  {
   "cell_type": "code",
   "execution_count": null,
   "metadata": {},
   "outputs": [],
   "source": [
    "def getGevMass(mass):\n",
    "    return np.exp (mass * (mass_max - mass_min) + mass_min)\n",
    "plt.hist(getGevMass(mass_test), weights=weights_test, bins=50, histtype=\"step\", normed=1, range=(220, 2000), label=\"Preselection\")\n",
    "plt.hist(getGevMass(mass_test[y_pred >= threshold]), weights=weights_test[y_pred >= threshold], bins=50, histtype=\"step\", normed=1, range=(220, 2000), label=\"Score > \" + str(threshold))\n",
    "\n",
    "plt.title(\"Mass Distribution (s+b)\")\n",
    "#plt.ylim(0, 4)\n",
    "plt.xlim(200, 1200)\n",
    "plt.xlabel(\"mass GeV\")\n",
    "plt.legend()\n",
    "plt.grid()\n",
    "plt.show()"
   ]
  },
  {
   "cell_type": "code",
   "execution_count": null,
   "metadata": {},
   "outputs": [],
   "source": [
    "temp = np.zeros((len(mass_test),), dtype=[('mass',np.float64),('weight',np.float64),('NN_score',np.float64) ])\n",
    "temp['mass'] = np.array(getGevMass(mass_test))\n",
    "temp['weight'] = np.array(weights_test)\n",
    "temp['NN_score'] = np.array(y_pred)"
   ]
  },
  {
   "cell_type": "code",
   "execution_count": null,
   "metadata": {},
   "outputs": [],
   "source": [
    "from root_numpy import array2tree\n",
    "tree = array2tree(temp)\n",
    "\n",
    "from ROOT import TEfficiency, TH1F\n",
    "bins = 50\n",
    "scoremin = temp['mass'].min()\n",
    "scoremax = temp['mass'].max()\n",
    "hpreselect = TH1F(\"hpreselect\", \"mass distribution before NN\", bins, scoremin, scoremax)\n",
    "hpreselect.Sumw2()\n",
    "hNN = TH1F(\"hNN\", \"mass distribution for NN Score > \" + str(threshold), bins, scoremin, scoremax)\n",
    "hNN.Sumw2()\n",
    "#tree.Project(\"hpreselect\", \"mass\", \"weight\" ) #Tefficiency can;t do weights\n",
    "tree.Project(\"hpreselect\", \"mass\" )\n",
    "#tree.Project(\"hNN\", \"mass\", \"weight*(NN_score>=\" +str(threshold) + \")\" )\n",
    "tree.Project(\"hNN\", \"mass\", \"(NN_score>=\" +str(threshold) + \")\" )\n",
    "\n",
    "print TEfficiency.CheckConsistency(hNN, hpreselect)\n",
    "pEff = TEfficiency(hNN, hpreselect)\n",
    "\n",
    "from ROOT import TCanvas\n",
    "c = TCanvas(\"myCanvasName\",\"The Canvas Title\",800,350)\n",
    "pEff.SetTitle(\"Efficiency: Pre-selection vs Post NN Selection;Mass (GeV) ;#epsilon\")"
   ]
  },
  {
   "cell_type": "code",
   "execution_count": null,
   "metadata": {},
   "outputs": [],
   "source": [
    "pEff.Draw(\"AP\")\n",
    "#ROOT.enableJSVis()\n",
    "c.Draw()"
   ]
  },
  {
   "cell_type": "markdown",
   "metadata": {},
   "source": [
    "plt.hist(getGevMass(mass_test[y_test==1]), weights=weights_test[y_test==1], bins=50, histtype=\"step\", normed=1, range=(220, 2000), label=\"Preselection\")\n",
    "plt.hist(getGevMass(mass_test[(y_test==1) & (y_pred >= threshold)]), weights=weights_test[(y_test==1) & (y_pred >= threshold)], bins=50, histtype=\"step\", normed=1, range=(220, 2000), label=\"Score >= \" + str(round(threshold,2)))\n",
    "\n",
    "plt.title(\"VBF Events\")\n",
    "plt.xlabel(\"Mass (GeV)\")\n",
    "#plt.ylim(0, 4)\n",
    "plt.xlim(220,800 )\n",
    "plt.legend()\n",
    "plt.grid()\n",
    "plt.show()"
   ]
  },
  {
   "cell_type": "markdown",
   "metadata": {},
   "source": [
    "plt.hist(getGevMass(mass_test[y_test==0]), weights=weights_test[y_test==0], bins=50, histtype=\"step\", normed=1, range=(220, 2000), label=\"Preselection\")\n",
    "plt.hist(getGevMass(mass_test[(y_test==0) & (y_pred >= threshold)]), weights=weights_test[(y_test==0) & (y_pred >= threshold)], bins=50, histtype=\"step\", normed=1, range=(220, 2000), label=\"Score >= \" + str(round(threshold,2)))\n",
    "\n",
    "plt.title(\"Background Like Events (qq, ggF)\")\n",
    "plt.xlim(220,800 )\n",
    "plt.xlabel(\"Mass (GeV)\")\n",
    "plt.legend()\n",
    "plt.grid()\n",
    "plt.show()"
   ]
  },
  {
   "cell_type": "code",
   "execution_count": null,
   "metadata": {},
   "outputs": [],
   "source": [
    "from scipy.stats import pearsonr\n",
    "corr = pearsonr(mass_test, y_pred)\n",
    "print \"Unweighted correlation of all test events with mass is\", corr\n",
    "\n",
    "corr = pearsonr(mass_test[y_test ==1], y_pred[y_test ==1])\n",
    "print \"Unweighted correlation of signal test with mass is\", corr\n",
    "\n",
    "corr = pearsonr(mass_test[(y_pred > threshold) ], y_pred[(y_pred > threshold)])\n",
    "print \"Unweighted correlation of all test events passing cut with mass is\", corr"
   ]
  },
  {
   "cell_type": "markdown",
   "metadata": {},
   "source": [
    "(y_pred>0.5).sum()/float(y_pred.shape[0]) # much better than without class_weight training"
   ]
  },
  {
   "cell_type": "markdown",
   "metadata": {},
   "source": [
    "# Now with Adversarial Network"
   ]
  },
  {
   "cell_type": "code",
   "execution_count": 14,
   "metadata": {},
   "outputs": [
    {
     "name": "stderr",
     "output_type": "stream",
     "text": [
      "/usr/local/lib/python2.7/site-packages/ipykernel_launcher.py:16: UserWarning: Update your `Model` call to the Keras 2 API: `Model(outputs=[<tf.Tenso..., inputs=[<tf.Tenso...)`\n",
      "  app.launch_new_instance()\n",
      "/usr/local/lib/python2.7/site-packages/ipykernel_launcher.py:26: UserWarning: Update your `Model` call to the Keras 2 API: `Model(outputs=[<tf.Tenso..., inputs=[<tf.Tenso...)`\n"
     ]
    }
   ],
   "source": [
    "from keras.layers import Input, Dense\n",
    "from keras.models import Model\n",
    "\n",
    "def make_trainable(network, flag):\n",
    "    network.trainable = flag\n",
    "    for l in network.layers:\n",
    "        l.trainable = flag\n",
    "\n",
    "inputs = Input(shape=(X_train.shape[1],))\n",
    "\n",
    "Dx = Dense(32, activation=\"relu\")(inputs)\n",
    "Dx = Dense(32, activation=\"relu\")(Dx)\n",
    "Dx = Dense(32, activation=\"relu\")(Dx)\n",
    "Dx = Dense(1, activation=\"sigmoid\")(Dx)\n",
    "D = Model(input=[inputs], output=[Dx])\n",
    "\n",
    "#@TODO: Gradient reversal layer, and simul training\n",
    "#@TODO: loss on only the signal, we want that to be flat\n",
    "Rx = Dx\n",
    "Rx = Dense(32, activation=\"relu\")(Rx)\n",
    "Rx = Dense(32, activation=\"relu\")(Rx)\n",
    "Rx = Dense(32, activation=\"relu\")(Rx)\n",
    "#Rx = Dense(1, activation=\"sigmoid\")(Rx) #try regression activations @TODO\n",
    "Rx = Dense(1, activation=\"relu\")(Rx)\n",
    "R = Model(input=[inputs], outputs=[Rx])\n",
    "#@TODO: loss only on background events, tanh activation, batch norm, drop out, see Andreas\n"
   ]
  },
  {
   "cell_type": "code",
   "execution_count": 16,
   "metadata": {},
   "outputs": [
    {
     "name": "stderr",
     "output_type": "stream",
     "text": [
      "/usr/local/lib/python2.7/site-packages/ipykernel_launcher.py:25: UserWarning: Update your `Model` call to the Keras 2 API: `Model(outputs=[<tf.Tenso..., inputs=[<tf.Tenso...)`\n",
      "/usr/local/lib/python2.7/site-packages/ipykernel_launcher.py:31: UserWarning: Update your `Model` call to the Keras 2 API: `Model(outputs=[<tf.Tenso..., inputs=[<tf.Tenso...)`\n"
     ]
    }
   ],
   "source": [
    "import keras.backend as K\n",
    "from keras.optimizers import SGD\n",
    "from keras.losses import mean_squared_error\n",
    "\n",
    "lam = 100.0 #10.0 # pivotal trade-off\n",
    "\n",
    "def make_loss_D(c):\n",
    "    def loss_D(y_true, y_pred):\n",
    "        return c * K.binary_crossentropy(y_pred, y_true)\n",
    "        #return c * K.mean (K.binary_crossentropy(y_pred, y_true))\n",
    "    return loss_D\n",
    "\n",
    "def make_loss_R(c):\n",
    "    def loss_R(z_true, z_pred):\n",
    "        return c * mean_squared_error(z_pred, z_true)\n",
    "    return loss_R\n",
    "\n",
    "opt_D = SGD()\n",
    "D.compile(loss=[make_loss_D(c=1.0)], optimizer=opt_D)\n",
    "#D.compile(loss=\"binary_crossentropy\", optimizer=opt_D)\n",
    "\n",
    "# Train D such that R loss (its c=-lam) is also minimised, make it invariant to R\n",
    "#can we train simultaneous? grad reversal layer???\n",
    "opt_DRf = SGD(momentum=0.0)\n",
    "DRf = Model(input=[inputs], output=[D(inputs), R(inputs)])\n",
    "make_trainable(R, False)\n",
    "make_trainable(D, True)\n",
    "DRf.compile(loss=[make_loss_D(c=1.0), make_loss_R(c=-lam)], optimizer=opt_DRf)\n",
    "\n",
    "opt_DfR = SGD(momentum=0.0)\n",
    "DfR = Model(input=[inputs], output=[R(inputs)])\n",
    "make_trainable(R, True)\n",
    "make_trainable(D, False)\n",
    "#DfR.compile(loss=[make_loss_R(c=1.0)], optimizer=opt_DfR)\n",
    "DfR.compile(loss=[make_loss_R(c=100.0)], optimizer=opt_DfR)"
   ]
  },
  {
   "cell_type": "code",
   "execution_count": 17,
   "metadata": {},
   "outputs": [
    {
     "name": "stderr",
     "output_type": "stream",
     "text": [
      "/usr/local/lib/python2.7/site-packages/ipykernel_launcher.py:4: UserWarning: The `nb_epoch` argument in `fit` has been renamed `epochs`.\n",
      "  after removing the cwd from sys.path.\n"
     ]
    },
    {
     "name": "stdout",
     "output_type": "stream",
     "text": [
      "Epoch 1/15\n",
      "167568/167568 [==============================] - 9s - loss: 3.0380     \n",
      "Epoch 2/15\n",
      "167568/167568 [==============================] - 9s - loss: 2.9383     \n",
      "Epoch 3/15\n",
      "167568/167568 [==============================] - 8s - loss: 2.9426     \n",
      "Epoch 4/15\n",
      "167568/167568 [==============================] - 8s - loss: 2.9048     \n",
      "Epoch 5/15\n",
      "167568/167568 [==============================] - 8s - loss: 2.9276     \n",
      "Epoch 6/15\n",
      "167568/167568 [==============================] - 8s - loss: 2.9105     \n",
      "Epoch 7/15\n",
      "167568/167568 [==============================] - 8s - loss: 2.8940     \n",
      "Epoch 8/15\n",
      "167568/167568 [==============================] - 8s - loss: 2.9030     \n",
      "Epoch 9/15\n",
      "167568/167568 [==============================] - 8s - loss: 2.9383     \n",
      "Epoch 10/15\n",
      "167568/167568 [==============================] - 8s - loss: 2.8867     \n",
      "Epoch 11/15\n",
      "167568/167568 [==============================] - 8s - loss: 2.9014     \n",
      "Epoch 12/15\n",
      "167568/167568 [==============================] - 8s - loss: 2.9461     \n",
      "Epoch 13/15\n",
      "167568/167568 [==============================] - 8s - loss: 2.9089     \n",
      "Epoch 14/15\n",
      "167568/167568 [==============================] - 8s - loss: 2.9273     \n",
      "Epoch 15/15\n",
      "167568/167568 [==============================] - 8s - loss: 2.8736     \n"
     ]
    },
    {
     "data": {
      "text/plain": [
       "<keras.callbacks.History at 0x10a486050>"
      ]
     },
     "execution_count": 17,
     "metadata": {},
     "output_type": "execute_result"
    }
   ],
   "source": [
    "# Pretrain D\n",
    "make_trainable(R, False)\n",
    "make_trainable(D, True)\n",
    "D.fit(X_train, y_train, sample_weight=weights_train, nb_epoch=15)\n",
    "\n",
    "#D.fit(X_train, y_train, nb_epoch=10, class_weight=get_class_weights(y_train))"
   ]
  },
  {
   "cell_type": "code",
   "execution_count": 18,
   "metadata": {},
   "outputs": [
    {
     "name": "stderr",
     "output_type": "stream",
     "text": [
      "/usr/local/lib/python2.7/site-packages/ipykernel_launcher.py:4: UserWarning: The `nb_epoch` argument in `fit` has been renamed `epochs`.\n",
      "  after removing the cwd from sys.path.\n"
     ]
    },
    {
     "name": "stdout",
     "output_type": "stream",
     "text": [
      "Epoch 1/5\n",
      "167568/167568 [==============================] - 9s - loss: 3.9202     \n",
      "Epoch 2/5\n",
      "167568/167568 [==============================] - 9s - loss: 3.9204     \n",
      "Epoch 3/5\n",
      "167568/167568 [==============================] - 9s - loss: 3.9230     \n",
      "Epoch 4/5\n",
      "167568/167568 [==============================] - 9s - loss: 3.9217     \n",
      "Epoch 5/5\n",
      "167568/167568 [==============================] - 9s - loss: 3.9225     \n"
     ]
    },
    {
     "data": {
      "text/plain": [
       "<keras.callbacks.History at 0x109196150>"
      ]
     },
     "execution_count": 18,
     "metadata": {},
     "output_type": "execute_result"
    }
   ],
   "source": [
    "# Pretrain R\n",
    "make_trainable(R, True)\n",
    "make_trainable(D, False)\n",
    "DfR.fit(X_train, mass_train, sample_weight=weights_train, nb_epoch=5)\n",
    "\n",
    "#DfR.fit(X_train, mass_train, nb_epoch=5)"
   ]
  },
  {
   "cell_type": "code",
   "execution_count": 19,
   "metadata": {},
   "outputs": [
    {
     "name": "stdout",
     "output_type": "stream",
     "text": [
      "54400/55856 [============================>.] - ETA: 0s"
     ]
    },
    {
     "data": {
      "text/plain": [
       "0.0057125495735660461"
      ]
     },
     "execution_count": 19,
     "metadata": {},
     "output_type": "execute_result"
    }
   ],
   "source": [
    "DfR.evaluate(X_test, [mass_test], sample_weight=weights_test)"
   ]
  },
  {
   "cell_type": "code",
   "execution_count": 20,
   "metadata": {},
   "outputs": [],
   "source": [
    "def plot_losses(i, losses):\n",
    "    display.clear_output(wait=True)\n",
    "    display.display(plt.gcf())\n",
    "\n",
    "    ax1 = plt.subplot(311)   \n",
    "    values = np.array(losses[\"L_f\"])\n",
    "    plt.plot(range(len(values)), values, label=r\"$L_f$\", color=\"blue\")\n",
    "    plt.legend(loc=\"upper right\")\n",
    "    plt.grid()\n",
    "    \n",
    "    ax2 = plt.subplot(312, sharex=ax1) \n",
    "    values = np.array(losses[\"L_r\"]) / lam\n",
    "    plt.plot(range(len(values)), values, label=r\"$L_r$\", color=\"green\")\n",
    "    plt.legend(loc=\"upper right\")\n",
    "    plt.grid()\n",
    "    \n",
    "    ax3 = plt.subplot(313, sharex=ax1)\n",
    "    values = np.array(losses[\"L_f - L_r\"])\n",
    "    plt.plot(range(len(values)), values, label=r\"$L_f - \\lambda L_r$\", color=\"red\")  \n",
    "    plt.legend(loc=\"upper right\")\n",
    "    plt.grid()\n",
    "    \n",
    "    plt.show()"
   ]
  },
  {
   "cell_type": "code",
   "execution_count": null,
   "metadata": {},
   "outputs": [],
   "source": [
    "losses = {\"L_f\": [], \"L_r\": [], \"L_f - L_r\": []}"
   ]
  },
  {
   "cell_type": "code",
   "execution_count": null,
   "metadata": {},
   "outputs": [],
   "source": [
    "batch_size = 128\n",
    "training_iterations = 50#201\n",
    "for i in range(training_iterations):\n",
    "    l = DRf.evaluate(X_test, [y_test, mass_test], verbose=0) #add weight!!!   \n",
    "    losses[\"L_f - L_r\"].append(l[0][None][0])\n",
    "    losses[\"L_f\"].append(l[1][None][0]) # why none, 0? just do l[1]??\n",
    "    losses[\"L_r\"].append(-l[2][None][0])\n",
    "    print(losses[\"L_f\"][-1], losses[\"L_r\"][-1] / lam, losses[\"L_r\"][-1])\n",
    "    \n",
    "    if i % 5 == 0:\n",
    "        plot_losses(i, losses)\n",
    "\n",
    "    # Fit D\n",
    "    make_trainable(R, False)\n",
    "    make_trainable(D, True)\n",
    "    indices = np.random.permutation(len(X_train))[:batch_size]\n",
    "    print \"DRf\"\n",
    "    DRf.train_on_batch(X_train[indices], [y_train[indices], mass_train[indices]], sample_weight=[weights_train[indices], weights_train[indices]])\n",
    "        \n",
    "    # Fit R\n",
    "    make_trainable(R, True)\n",
    "    make_trainable(D, False)\n",
    "    print \"DfR\"\n",
    "    DfR.fit(X_train, mass_train, batch_size=batch_size, sample_weight=weights_train, nb_epoch=1, verbose=1)\n",
    "    #DfR.fit(X_train, mass_train, batch_size=batch_size, nb_epoch=1, verbose=1)\n",
    "    #DfR.fit(X_train, mass_train, nb_epoch=1, verbose=1)\n",
    "    #DfR.fit(X_train, mass_train, sample_weight=weights_train, nb_epoch=1, verbose=1)\n",
    "    #@TODO: try grad reversal layer"
   ]
  },
  {
   "cell_type": "code",
   "execution_count": 22,
   "metadata": {},
   "outputs": [
    {
     "data": {
      "text/plain": [
       "0.83084809568358886"
      ]
     },
     "execution_count": 22,
     "metadata": {},
     "output_type": "execute_result"
    }
   ],
   "source": [
    "from sklearn.metrics import roc_auc_score\n",
    "y_pred_dc = D.predict(X_test)\n",
    "y_pred_dc = y_pred_dc.ravel()\n",
    "roc_auc_score(y_test, y_pred_dc, sample_weight=weights_test)"
   ]
  },
  {
   "cell_type": "markdown",
   "metadata": {},
   "source": [
    "plt.hist(y_pred_dc[mass_test<mass_test.mean()], weights=weights_test[mass_test<mass_test.mean()], bins=50, histtype=\"step\", normed=1, label=\"Low\")\n",
    "plt.hist(y_pred_dc[mass_test>=mass_test.mean()], weights=weights_test[mass_test>=mass_test.mean()], bins=50, histtype=\"step\", normed=1, label=\"High\")\n",
    "\n",
    "plt.legend()\n",
    "plt.grid()\n",
    "plt.show()"
   ]
  },
  {
   "cell_type": "code",
   "execution_count": 23,
   "metadata": {},
   "outputs": [
    {
     "name": "stdout",
     "output_type": "stream",
     "text": [
      "Unweighted correlation with mass is (0.1105246, 2.5910612466080916e-151)\n"
     ]
    }
   ],
   "source": [
    "from scipy.stats import pearsonr\n",
    "corr = pearsonr(mass_test, y_pred_dc)\n",
    "print \"Unweighted correlation with mass is\", corr"
   ]
  },
  {
   "cell_type": "code",
   "execution_count": 24,
   "metadata": {},
   "outputs": [
    {
     "data": {
      "text/plain": [
       "array([  5.29351282e-28,   9.27376422e-35,   3.34385504e-27, ...,\n",
       "         0.00000000e+00,   1.61145365e-07,   1.00000000e+00], dtype=float32)"
      ]
     },
     "execution_count": 24,
     "metadata": {},
     "output_type": "execute_result"
    }
   ],
   "source": [
    "y_pred_dc"
   ]
  },
  {
   "cell_type": "code",
   "execution_count": 25,
   "metadata": {},
   "outputs": [],
   "source": [
    "mass_predict = R.predict(X_test)"
   ]
  },
  {
   "cell_type": "code",
   "execution_count": 26,
   "metadata": {},
   "outputs": [
    {
     "name": "stdout",
     "output_type": "stream",
     "text": [
      "54976/55856 [============================>.] - ETA: 0s"
     ]
    },
    {
     "data": {
      "text/plain": [
       "0.0057125495735660461"
      ]
     },
     "execution_count": 26,
     "metadata": {},
     "output_type": "execute_result"
    }
   ],
   "source": [
    "DfR.evaluate(X_test, [mass_test], sample_weight=weights_test)"
   ]
  },
  {
   "cell_type": "code",
   "execution_count": 27,
   "metadata": {},
   "outputs": [
    {
     "data": {
      "image/png": "[encoded data removed]",
      "text/plain": [
       "<matplotlib.figure.Figure at 0x1189516d0>"
      ]
     },
     "metadata": {},
     "output_type": "display_data"
    }
   ],
   "source": [
    "plt.hist(mass_predict, weights=weights_test, bins=50, histtype=\"step\", normed=1, label=\"Predicted\")\n",
    "plt.hist(mass_test, weights=weights_test, bins=50, histtype=\"step\", normed=1, label=\"True\")\n",
    "\n",
    "#plt.ylim(0, 5)\n",
    "plt.legend()\n",
    "plt.grid()\n",
    "plt.show()\n",
    "#doesnt change after adversrial training.. should get worse"
   ]
  },
  {
   "cell_type": "code",
   "execution_count": null,
   "metadata": {},
   "outputs": [],
   "source": []
  },
  {
   "cell_type": "code",
   "execution_count": null,
   "metadata": {},
   "outputs": [],
   "source": []
  },
  {
   "cell_type": "code",
   "execution_count": 28,
   "metadata": {},
   "outputs": [],
   "source": [
    "y_pred_dc_train = D.predict(X_train).ravel()"
   ]
  },
  {
   "cell_type": "code",
   "execution_count": 29,
   "metadata": {},
   "outputs": [],
   "source": [
    "#int_pred_test_sig = [weights_train[(y_train ==1) & (y_pred_train > th_cut)].sum() for th_cut in np.linspace(0,1,num=50)]\n",
    "#int_pred_test_bkg = [weights_train[(y_train ==0) & (y_pred_train > th_cut)].sum() for th_cut in np.linspace(0,1,num=50)]\n",
    "\n",
    "int_pred_dc_test_sig = [weights_test[(y_test ==1) & (y_pred_dc > th_cut)].sum() for th_cut in np.linspace(0,1,num=50)]\n",
    "int_pred_dc_test_bkg = [weights_test[(y_test ==0) & (y_pred_dc > th_cut)].sum() for th_cut in np.linspace(0,1,num=50)]"
   ]
  },
  {
   "cell_type": "code",
   "execution_count": 30,
   "metadata": {},
   "outputs": [
    {
     "data": {
      "text/plain": [
       "[<matplotlib.lines.Line2D at 0x11b3b5a90>]"
      ]
     },
     "execution_count": 30,
     "metadata": {},
     "output_type": "execute_result"
    },
    {
     "data": {
      "image/png": "[encoded data removed]",
      "text/plain": [
       "<matplotlib.figure.Figure at 0x11b1b3a90>"
      ]
     },
     "metadata": {},
     "output_type": "display_data"
    }
   ],
   "source": [
    "plt.plot(np.linspace(0,1,num=50),int_pred_dc_test_sig)\n",
    "plt.plot(np.linspace(0,1,num=50),int_pred_dc_test_bkg)"
   ]
  },
  {
   "cell_type": "code",
   "execution_count": 32,
   "metadata": {},
   "outputs": [],
   "source": [
    "from util_func import amsasimov\n",
    "vamsasimov_dc = [amsasimov(sumsig,sumbkg) for (sumsig,sumbkg) in zip(int_pred_dc_test_sig,int_pred_dc_test_bkg)]\n",
    "significance_dc = max(vamsasimov_dc)\n",
    "threshold_dc = np.linspace(0,1,num=50)[ np.array(vamsasimov_dc).argmax() ]"
   ]
  },
  {
   "cell_type": "code",
   "execution_count": 33,
   "metadata": {},
   "outputs": [
    {
     "data": {
      "text/plain": [
       "(1.3830015868464396, 0.93877551020408156)"
      ]
     },
     "execution_count": 33,
     "metadata": {},
     "output_type": "execute_result"
    }
   ],
   "source": [
    "significance_dc, threshold_dc"
   ]
  },
  {
   "cell_type": "code",
   "execution_count": 34,
   "metadata": {},
   "outputs": [
    {
     "data": {
      "text/plain": [
       "[<matplotlib.lines.Line2D at 0x11b678c90>]"
      ]
     },
     "execution_count": 34,
     "metadata": {},
     "output_type": "execute_result"
    },
    {
     "data": {
      "image/png": "[encoded data removed]",
      "text/plain": [
       "<matplotlib.figure.Figure at 0x11b1fbdd0>"
      ]
     },
     "metadata": {},
     "output_type": "display_data"
    }
   ],
   "source": [
    "plt.plot(np.linspace(0,1,num=50),vamsasimov_dc)"
   ]
  },
  {
   "cell_type": "code",
   "execution_count": 35,
   "metadata": {},
   "outputs": [
    {
     "data": {
      "image/png": "[encoded data removed]",
      "text/plain": [
       "<matplotlib.figure.Figure at 0x11b214510>"
      ]
     },
     "metadata": {},
     "output_type": "display_data"
    }
   ],
   "source": [
    "from util_func import compare_train_test\n",
    "compare_train_test(y_pred_dc_train, y_train, y_pred_dc, y_test)"
   ]
  },
  {
   "cell_type": "code",
   "execution_count": null,
   "metadata": {},
   "outputs": [],
   "source": []
  },
  {
   "cell_type": "code",
   "execution_count": 38,
   "metadata": {},
   "outputs": [
    {
     "data": {
      "image/png": "[encoded data removed]",
      "text/plain": [
       "<matplotlib.figure.Figure at 0x110cde490>"
      ]
     },
     "metadata": {},
     "output_type": "display_data"
    }
   ],
   "source": [
    "def getGevMass(mass):\n",
    "    return np.exp (mass * (mass_max - mass_min) + mass_min)\n",
    "plt.hist(getGevMass(mass_test), weights=weights_test, bins=50, histtype=\"step\", normed=1, range=(220, 2000), label=\"Preselection\")\n",
    "plt.hist(getGevMass(mass_test[y_pred_dc >= threshold_dc]), weights=weights_test[y_pred_dc >= threshold_dc], bins=50, histtype=\"step\", normed=1, range=(220, 2000), label=\"Score > \" + str(threshold_dc))\n",
    "\n",
    "plt.title(\"Mass Distribution (s+b)\")\n",
    "#plt.ylim(0, 4)\n",
    "plt.xlim(200, 1200)\n",
    "plt.xlabel(\"mass GeV\")\n",
    "plt.legend()\n",
    "plt.grid()\n",
    "plt.show()"
   ]
  },
  {
   "cell_type": "code",
   "execution_count": null,
   "metadata": {},
   "outputs": [],
   "source": []
  },
  {
   "cell_type": "code",
   "execution_count": 39,
   "metadata": {},
   "outputs": [
    {
     "name": "stdout",
     "output_type": "stream",
     "text": [
      "Welcome to JupyROOT 6.10/06\n",
      "True\n"
     ]
    }
   ],
   "source": [
    "temp = np.zeros((len(mass_test),), dtype=[('mass',np.float64),('weight',np.float64),('NN_score',np.float64) ])\n",
    "temp['mass'] = np.array(getGevMass(mass_test))\n",
    "temp['weight'] = np.array(weights_test)\n",
    "temp['NN_score'] = np.array(y_pred_dc)\n",
    "\n",
    "from root_numpy import array2tree\n",
    "tree_dc = array2tree(temp)\n",
    "\n",
    "from ROOT import TEfficiency, TH1F\n",
    "bins = 50\n",
    "scoremin = temp['mass'].min()\n",
    "scoremax = temp['mass'].max()\n",
    "hpreselect_dc = TH1F(\"hpreselect_dc\", \"mass distribution before NN\", bins, scoremin, scoremax)\n",
    "hpreselect_dc.Sumw2()\n",
    "hD = TH1F(\"hD\", \"mass distribution for D Score > \" + str(threshold_dc), bins, scoremin, scoremax)\n",
    "hD.Sumw2()\n",
    "#tree.Project(\"hpreselect\", \"mass\", \"weight\" ) #Tefficiency can;t do weights\n",
    "tree_dc.Project(\"hpreselect_dc\", \"mass\" )\n",
    "#tree.Project(\"hNN\", \"mass\", \"weight*(NN_score>=\" +str(threshold) + \")\" )\n",
    "tree_dc.Project(\"hD\", \"mass\", \"(NN_score>=\" +str(threshold_dc) + \")\" )\n",
    "\n",
    "print TEfficiency.CheckConsistency(hD, hpreselect_dc)\n",
    "pEff_dc = TEfficiency(hD, hpreselect_dc)\n",
    "\n",
    "from ROOT import TCanvas\n",
    "c_dc = TCanvas(\"dcCanvas\",\"dc Canvas\",800,350)\n",
    "pEff_dc.SetTitle(\"Efficiency: Pre-selection vs Post D Selection;Mass (GeV) ;#epsilon\")"
   ]
  },
  {
   "cell_type": "code",
   "execution_count": 40,
   "metadata": {},
   "outputs": [
    {
     "data": {
      "image/png": "[encoded data removed]",
      "text/plain": [
       "<IPython.core.display.Image object>"
      ]
     },
     "metadata": {},
     "output_type": "display_data"
    }
   ],
   "source": [
    "pEff_dc.Draw(\"AP\")\n",
    "#ROOT.enableJSVis()\n",
    "c_dc.Draw()"
   ]
  },
  {
   "cell_type": "code",
   "execution_count": null,
   "metadata": {},
   "outputs": [],
   "source": [
    "(mass_predict !=0).sum()"
   ]
  },
  {
   "cell_type": "code",
   "execution_count": null,
   "metadata": {},
   "outputs": [],
   "source": [
    "# the D without adverserial training is already behaving weird, no change after adverserial\n",
    "\n",
    "# why is the loss look decreasing further on pivot training, its not actually cuz auc is worse\n",
    "# why are predictions exactly 0, 1 almost always?\n",
    "# @TODO: do pivot on signal only, not background. see how Andreas did it\n",
    "#@TODO: Compare AUC with qq, without qq"
   ]
  },
  {
   "cell_type": "code",
   "execution_count": null,
   "metadata": {},
   "outputs": [],
   "source": [
    "# @Victor:\n",
    "# crossentropy and k.crossentropy differ more than by constant, even K.mean | same for Gilles, probably not big deal\n",
    "# V: maybe somethinh trivial... Maybe laerning rate needs to be adjsted (sum vs mean)\n",
    "# pivot not working well\n",
    "# V: Try to overfit on 100 samples: find elephant problems\n",
    "# regression activation, loss function?\n",
    "# V: Its okay trial and error | andreas did classification\n",
    "# loss of r is changing at a lower level, maybe subtract off the first loss?\n",
    "# V: maybe\n",
    "# grad reversal layer\n",
    "# V: simultaneous could be better\n",
    "# why is the loss look decreasing further on pivot training, its not actually cuz auc is worse\n",
    "# V: Maybe you need to let pre-training converge"
   ]
  },
  {
   "cell_type": "markdown",
   "metadata": {},
   "source": [
    "!pip2 install jupyter_contrib_nbextensions"
   ]
  },
  {
   "cell_type": "code",
   "execution_count": null,
   "metadata": {},
   "outputs": [],
   "source": []
  },
  {
   "cell_type": "code",
   "execution_count": null,
   "metadata": {},
   "outputs": [],
   "source": []
  },
  {
   "cell_type": "code",
   "execution_count": null,
   "metadata": {},
   "outputs": [],
   "source": []
  }
 ],
 "metadata": {
  "kernelspec": {
   "display_name": "Python 2",
   "language": "python",
   "name": "python2"
  },
  "language_info": {
   "codemirror_mode": {
    "name": "ipython",
    "version": 2
   },
   "file_extension": ".py",
   "mimetype": "text/x-python",
   "name": "python",
   "nbconvert_exporter": "python",
   "pygments_lexer": "ipython2",
   "version": "2.7.14"
  }
 },
 "nbformat": 4,
 "nbformat_minor": 2
}
